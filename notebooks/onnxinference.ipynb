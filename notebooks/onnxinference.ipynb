{
 "cells": [
  {
   "cell_type": "code",
   "execution_count": 9,
   "metadata": {
    "dotnet_interactive": {
     "language": "csharp"
    }
   },
   "outputs": [
    {
     "name": "stdout",
     "output_type": "stream",
     "text": [
      "Requirement already satisfied: onnxruntime in c:\\users\\rondagdag\\appdata\\local\\packages\\pythonsoftwarefoundation.python.3.9_qbz5n2kfra8p0\\localcache\\local-packages\\python39\\site-packages (1.8.1)\n",
      "Requirement already satisfied: flatbuffers in c:\\users\\rondagdag\\appdata\\local\\packages\\pythonsoftwarefoundation.python.3.9_qbz5n2kfra8p0\\localcache\\local-packages\\python39\\site-packages (from onnxruntime) (2.0)\n",
      "Requirement already satisfied: protobuf in c:\\users\\rondagdag\\appdata\\local\\packages\\pythonsoftwarefoundation.python.3.9_qbz5n2kfra8p0\\localcache\\local-packages\\python39\\site-packages (from onnxruntime) (3.17.3)\n",
      "Requirement already satisfied: numpy>=1.16.6 in c:\\users\\rondagdag\\appdata\\local\\packages\\pythonsoftwarefoundation.python.3.9_qbz5n2kfra8p0\\localcache\\local-packages\\python39\\site-packages (from onnxruntime) (1.21.0)\n",
      "Requirement already satisfied: six>=1.9 in c:\\users\\rondagdag\\appdata\\local\\packages\\pythonsoftwarefoundation.python.3.9_qbz5n2kfra8p0\\localcache\\local-packages\\python39\\site-packages (from protobuf->onnxruntime) (1.16.0)\n"
     ]
    }
   ],
   "source": [
    "!pip install onnxruntime"
   ]
  },
  {
   "cell_type": "code",
   "execution_count": 10,
   "metadata": {
    "dotnet_interactive": {
     "language": "csharp"
    }
   },
   "outputs": [],
   "source": [
    "import onnxruntime as rt\n",
    "import numpy as np"
   ]
  },
  {
   "cell_type": "code",
   "execution_count": 11,
   "metadata": {
    "dotnet_interactive": {
     "language": "csharp"
    }
   },
   "outputs": [],
   "source": [
    "sess = rt.InferenceSession(\"model.onnx\")\n"
   ]
  },
  {
   "cell_type": "markdown",
   "metadata": {},
   "source": [
    "![ONNX Netron Image](onnx-netron.PNG)"
   ]
  },
  {
   "cell_type": "code",
   "execution_count": 12,
   "metadata": {
    "dotnet_interactive": {
     "language": "csharp"
    }
   },
   "outputs": [
    {
     "name": "stdout",
     "output_type": "stream",
     "text": [
      "input name yearsExperience\n",
      "input shape [None, 1]\n",
      "input type tensor(float)\n"
     ]
    }
   ],
   "source": [
    "input_yearsExperience = sess.get_inputs()[0].name\n",
    "print(\"input name\", input_yearsExperience)\n",
    "input_shape = sess.get_inputs()[0].shape\n",
    "print(\"input shape\", input_shape)\n",
    "input_type = sess.get_inputs()[0].type\n",
    "print(\"input type\", input_type)"
   ]
  },
  {
   "cell_type": "code",
   "execution_count": 13,
   "metadata": {
    "dotnet_interactive": {
     "language": "csharp"
    }
   },
   "outputs": [
    {
     "name": "stdout",
     "output_type": "stream",
     "text": [
      "input name salary\n",
      "input shape [None, 1]\n",
      "input type tensor(float)\n"
     ]
    }
   ],
   "source": [
    "input_salary = sess.get_inputs()[1].name\n",
    "print(\"input name\", input_salary)\n",
    "input_shape = sess.get_inputs()[1].shape\n",
    "print(\"input shape\", input_shape)\n",
    "input_type = sess.get_inputs()[1].type\n",
    "print(\"input type\", input_type)"
   ]
  },
  {
   "cell_type": "code",
   "execution_count": 14,
   "metadata": {
    "dotnet_interactive": {
     "language": "csharp"
    }
   },
   "outputs": [
    {
     "name": "stdout",
     "output_type": "stream",
     "text": [
      "output name Score.output\n",
      "output shape [None, 1]\n",
      "output type tensor(float)\n"
     ]
    }
   ],
   "source": [
    "output_name = sess.get_outputs()[4].name\n",
    "print(\"output name\", output_name)\n",
    "output_shape = sess.get_outputs()[4].shape\n",
    "print(\"output shape\", output_shape)\n",
    "output_type = sess.get_outputs()[4].type\n",
    "print(\"output type\", output_type)"
   ]
  },
  {
   "cell_type": "code",
   "execution_count": 15,
   "metadata": {
    "dotnet_interactive": {
     "language": "csharp"
    }
   },
   "outputs": [
    {
     "data": {
      "text/plain": [
       "[array([[167424.86]], dtype=float32)]"
      ]
     },
     "execution_count": 15,
     "metadata": {},
     "output_type": "execute_result"
    }
   ],
   "source": [
    "years = np.array([[15]], dtype=np.float32)\n",
    "salary = np.array([[12]], dtype=np.float32)\n",
    "res = sess.run([output_name], {input_yearsExperience: years,  input_salary:salary })\n",
    "res"
   ]
  },
  {
   "cell_type": "code",
   "execution_count": 16,
   "metadata": {
    "dotnet_interactive": {
     "language": "csharp"
    }
   },
   "outputs": [
    {
     "data": {
      "text/plain": [
       "167424.86"
      ]
     },
     "execution_count": 16,
     "metadata": {},
     "output_type": "execute_result"
    }
   ],
   "source": [
    "res[0][0][0]"
   ]
  },
  {
   "cell_type": "code",
   "execution_count": null,
   "metadata": {
    "dotnet_interactive": {
     "language": "csharp"
    }
   },
   "outputs": [],
   "source": []
  },
  {
   "cell_type": "code",
   "execution_count": null,
   "metadata": {},
   "outputs": [],
   "source": []
  }
 ],
 "metadata": {
  "interpreter": {
   "hash": "f56e04445257e8c03737cd64c0fcaf6c726181bea6d5974db6823b1c6c4ad412"
  },
  "kernelspec": {
   "display_name": "Python 3.9.7 64-bit (windows store)",
   "name": "python3"
  },
  "language_info": {
   "codemirror_mode": {
    "name": "ipython",
    "version": 3
   },
   "file_extension": ".py",
   "mimetype": "text/x-python",
   "name": "python",
   "nbconvert_exporter": "python",
   "pygments_lexer": "ipython3",
   "version": "3.9.9"
  }
 },
 "nbformat": 4,
 "nbformat_minor": 4
}
