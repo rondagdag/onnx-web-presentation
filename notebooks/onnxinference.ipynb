{
 "cells": [
  {
   "cell_type": "code",
   "execution_count": 9,
   "metadata": {
    "dotnet_interactive": {
     "language": "csharp"
    }
   },
   "outputs": [
    {
     "name": "stdout",
     "output_type": "stream",
     "text": [
      "Requirement already satisfied: onnxruntime in c:\\users\\rondagdag\\anaconda3\\lib\\site-packages (1.11.1)\n",
      "Requirement already satisfied: flatbuffers in c:\\users\\rondagdag\\anaconda3\\lib\\site-packages (from onnxruntime) (2.0)\n",
      "Requirement already satisfied: numpy>=1.22.3 in c:\\users\\rondagdag\\anaconda3\\lib\\site-packages (from onnxruntime) (1.22.4)\n",
      "Requirement already satisfied: protobuf in c:\\users\\rondagdag\\anaconda3\\lib\\site-packages (from onnxruntime) (3.19.1)\n"
     ]
    }
   ],
   "source": [
    "!pip3 install onnxruntime"
   ]
  },
  {
   "cell_type": "code",
   "execution_count": 2,
   "metadata": {
    "dotnet_interactive": {
     "language": "csharp"
    }
   },
   "outputs": [],
   "source": [
    "import onnxruntime as rt\n",
    "import numpy as np"
   ]
  },
  {
   "cell_type": "code",
   "execution_count": 3,
   "metadata": {
    "dotnet_interactive": {
     "language": "csharp"
    }
   },
   "outputs": [],
   "source": [
    "sess = rt.InferenceSession(\"model.onnx\")\n"
   ]
  },
  {
   "cell_type": "markdown",
   "metadata": {},
   "source": [
    "![ONNX Netron Image](onnx-netron.PNG)"
   ]
  },
  {
   "cell_type": "code",
   "execution_count": 4,
   "metadata": {
    "dotnet_interactive": {
     "language": "csharp"
    }
   },
   "outputs": [
    {
     "name": "stdout",
     "output_type": "stream",
     "text": [
      "input name yearsExperience\n",
      "input shape [None, 1]\n",
      "input type tensor(float)\n"
     ]
    }
   ],
   "source": [
    "input_yearsExperience = sess.get_inputs()[0].name\n",
    "print(\"input name\", input_yearsExperience)\n",
    "input_shape = sess.get_inputs()[0].shape\n",
    "print(\"input shape\", input_shape)\n",
    "input_type = sess.get_inputs()[0].type\n",
    "print(\"input type\", input_type)"
   ]
  },
  {
   "cell_type": "code",
   "execution_count": 5,
   "metadata": {
    "dotnet_interactive": {
     "language": "csharp"
    }
   },
   "outputs": [
    {
     "name": "stdout",
     "output_type": "stream",
     "text": [
      "input name salary\n",
      "input shape [None, 1]\n",
      "input type tensor(float)\n"
     ]
    }
   ],
   "source": [
    "input_salary = sess.get_inputs()[1].name\n",
    "print(\"input name\", input_salary)\n",
    "input_shape = sess.get_inputs()[1].shape\n",
    "print(\"input shape\", input_shape)\n",
    "input_type = sess.get_inputs()[1].type\n",
    "print(\"input type\", input_type)"
   ]
  },
  {
   "cell_type": "code",
   "execution_count": 6,
   "metadata": {
    "dotnet_interactive": {
     "language": "csharp"
    }
   },
   "outputs": [
    {
     "name": "stdout",
     "output_type": "stream",
     "text": [
      "output name Score.output\n",
      "output shape [None, 1]\n",
      "output type tensor(float)\n"
     ]
    }
   ],
   "source": [
    "output_name = sess.get_outputs()[4].name\n",
    "print(\"output name\", output_name)\n",
    "output_shape = sess.get_outputs()[4].shape\n",
    "print(\"output shape\", output_shape)\n",
    "output_type = sess.get_outputs()[4].type\n",
    "print(\"output type\", output_type)"
   ]
  },
  {
   "cell_type": "code",
   "execution_count": 7,
   "metadata": {
    "dotnet_interactive": {
     "language": "csharp"
    }
   },
   "outputs": [
    {
     "data": {
      "text/plain": [
       "[array([[167597.92]], dtype=float32)]"
      ]
     },
     "execution_count": 7,
     "metadata": {},
     "output_type": "execute_result"
    }
   ],
   "source": [
    "years = np.array([[15]], dtype=np.float32)\n",
    "salary = np.array([[12]], dtype=np.float32)\n",
    "res = sess.run([output_name], {input_yearsExperience: years,  input_salary:salary })\n",
    "res"
   ]
  },
  {
   "cell_type": "code",
   "execution_count": 8,
   "metadata": {
    "dotnet_interactive": {
     "language": "csharp"
    }
   },
   "outputs": [
    {
     "data": {
      "text/plain": [
       "167597.92"
      ]
     },
     "execution_count": 8,
     "metadata": {},
     "output_type": "execute_result"
    }
   ],
   "source": [
    "res[0][0][0]"
   ]
  },
  {
   "cell_type": "code",
   "execution_count": null,
   "metadata": {
    "dotnet_interactive": {
     "language": "csharp"
    }
   },
   "outputs": [],
   "source": []
  },
  {
   "cell_type": "code",
   "execution_count": null,
   "metadata": {},
   "outputs": [],
   "source": []
  }
 ],
 "metadata": {
  "interpreter": {
   "hash": "55e839cdc7f8cafa72ddde95b9f552553be6b4edc345bfbbb0edcc7ef0ad26c4"
  },
  "kernelspec": {
   "display_name": "Python 3.9.12 ('base')",
   "language": "python",
   "name": "python3"
  },
  "language_info": {
   "codemirror_mode": {
    "name": "ipython",
    "version": 3
   },
   "file_extension": ".py",
   "mimetype": "text/x-python",
   "name": "python",
   "nbconvert_exporter": "python",
   "pygments_lexer": "ipython3",
   "version": "3.9.12"
  }
 },
 "nbformat": 4,
 "nbformat_minor": 4
}
